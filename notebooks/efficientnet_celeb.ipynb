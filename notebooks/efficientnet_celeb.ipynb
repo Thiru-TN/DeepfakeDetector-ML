{
  "cells": [
    {
      "cell_type": "code",
      "execution_count": 1,
      "metadata": {
        "id": "2atgI8zoYJSM"
      },
      "outputs": [],
      "source": [
        "import pandas as pd\n",
        "import numpy as np\n",
        "import matplotlib.pyplot as plt\n",
        "import seaborn as sns\n",
        "\n",
        "import cv2\n",
        "import PIL\n",
        "from PIL import Image\n",
        "import os\n",
        "from tqdm import tqdm\n",
        "import gc\n",
        "import copy\n",
        "\n",
        "import torch\n",
        "import torch.nn as nn\n",
        "from torch.utils.data import Dataset, DataLoader\n",
        "from torch.optim import AdamW\n",
        "from torch.optim.lr_scheduler import CosineAnnealingWarmRestarts\n",
        "\n",
        "from sklearn.model_selection import train_test_split\n",
        "from sklearn.metrics import accuracy_score, precision_score, recall_score, roc_auc_score, f1_score\n",
        "from sklearn.metrics import classification_report, confusion_matrix, confusion_matrix\n",
        "\n",
        "from torchvision import transforms\n",
        "import timm\n",
        "from collections import Counter"
      ]
    },
    {
      "cell_type": "code",
      "execution_count": 2,
      "metadata": {
        "colab": {
          "base_uri": "https://localhost:8080/",
          "height": 73
        },
        "id": "y2KTDSfNYJSN",
        "outputId": "3a892843-c1fa-41f0-99b1-378270d8ab4d"
      },
      "outputs": [
        {
          "output_type": "display_data",
          "data": {
            "text/plain": [
              "<IPython.core.display.HTML object>"
            ],
            "text/html": [
              "\n",
              "     <input type=\"file\" id=\"files-ee53f9d5-6af7-429b-9505-c7049899bafb\" name=\"files[]\" multiple disabled\n",
              "        style=\"border:none\" />\n",
              "     <output id=\"result-ee53f9d5-6af7-429b-9505-c7049899bafb\">\n",
              "      Upload widget is only available when the cell has been executed in the\n",
              "      current browser session. Please rerun this cell to enable.\n",
              "      </output>\n",
              "      <script>// Copyright 2017 Google LLC\n",
              "//\n",
              "// Licensed under the Apache License, Version 2.0 (the \"License\");\n",
              "// you may not use this file except in compliance with the License.\n",
              "// You may obtain a copy of the License at\n",
              "//\n",
              "//      http://www.apache.org/licenses/LICENSE-2.0\n",
              "//\n",
              "// Unless required by applicable law or agreed to in writing, software\n",
              "// distributed under the License is distributed on an \"AS IS\" BASIS,\n",
              "// WITHOUT WARRANTIES OR CONDITIONS OF ANY KIND, either express or implied.\n",
              "// See the License for the specific language governing permissions and\n",
              "// limitations under the License.\n",
              "\n",
              "/**\n",
              " * @fileoverview Helpers for google.colab Python module.\n",
              " */\n",
              "(function(scope) {\n",
              "function span(text, styleAttributes = {}) {\n",
              "  const element = document.createElement('span');\n",
              "  element.textContent = text;\n",
              "  for (const key of Object.keys(styleAttributes)) {\n",
              "    element.style[key] = styleAttributes[key];\n",
              "  }\n",
              "  return element;\n",
              "}\n",
              "\n",
              "// Max number of bytes which will be uploaded at a time.\n",
              "const MAX_PAYLOAD_SIZE = 100 * 1024;\n",
              "\n",
              "function _uploadFiles(inputId, outputId) {\n",
              "  const steps = uploadFilesStep(inputId, outputId);\n",
              "  const outputElement = document.getElementById(outputId);\n",
              "  // Cache steps on the outputElement to make it available for the next call\n",
              "  // to uploadFilesContinue from Python.\n",
              "  outputElement.steps = steps;\n",
              "\n",
              "  return _uploadFilesContinue(outputId);\n",
              "}\n",
              "\n",
              "// This is roughly an async generator (not supported in the browser yet),\n",
              "// where there are multiple asynchronous steps and the Python side is going\n",
              "// to poll for completion of each step.\n",
              "// This uses a Promise to block the python side on completion of each step,\n",
              "// then passes the result of the previous step as the input to the next step.\n",
              "function _uploadFilesContinue(outputId) {\n",
              "  const outputElement = document.getElementById(outputId);\n",
              "  const steps = outputElement.steps;\n",
              "\n",
              "  const next = steps.next(outputElement.lastPromiseValue);\n",
              "  return Promise.resolve(next.value.promise).then((value) => {\n",
              "    // Cache the last promise value to make it available to the next\n",
              "    // step of the generator.\n",
              "    outputElement.lastPromiseValue = value;\n",
              "    return next.value.response;\n",
              "  });\n",
              "}\n",
              "\n",
              "/**\n",
              " * Generator function which is called between each async step of the upload\n",
              " * process.\n",
              " * @param {string} inputId Element ID of the input file picker element.\n",
              " * @param {string} outputId Element ID of the output display.\n",
              " * @return {!Iterable<!Object>} Iterable of next steps.\n",
              " */\n",
              "function* uploadFilesStep(inputId, outputId) {\n",
              "  const inputElement = document.getElementById(inputId);\n",
              "  inputElement.disabled = false;\n",
              "\n",
              "  const outputElement = document.getElementById(outputId);\n",
              "  outputElement.innerHTML = '';\n",
              "\n",
              "  const pickedPromise = new Promise((resolve) => {\n",
              "    inputElement.addEventListener('change', (e) => {\n",
              "      resolve(e.target.files);\n",
              "    });\n",
              "  });\n",
              "\n",
              "  const cancel = document.createElement('button');\n",
              "  inputElement.parentElement.appendChild(cancel);\n",
              "  cancel.textContent = 'Cancel upload';\n",
              "  const cancelPromise = new Promise((resolve) => {\n",
              "    cancel.onclick = () => {\n",
              "      resolve(null);\n",
              "    };\n",
              "  });\n",
              "\n",
              "  // Wait for the user to pick the files.\n",
              "  const files = yield {\n",
              "    promise: Promise.race([pickedPromise, cancelPromise]),\n",
              "    response: {\n",
              "      action: 'starting',\n",
              "    }\n",
              "  };\n",
              "\n",
              "  cancel.remove();\n",
              "\n",
              "  // Disable the input element since further picks are not allowed.\n",
              "  inputElement.disabled = true;\n",
              "\n",
              "  if (!files) {\n",
              "    return {\n",
              "      response: {\n",
              "        action: 'complete',\n",
              "      }\n",
              "    };\n",
              "  }\n",
              "\n",
              "  for (const file of files) {\n",
              "    const li = document.createElement('li');\n",
              "    li.append(span(file.name, {fontWeight: 'bold'}));\n",
              "    li.append(span(\n",
              "        `(${file.type || 'n/a'}) - ${file.size} bytes, ` +\n",
              "        `last modified: ${\n",
              "            file.lastModifiedDate ? file.lastModifiedDate.toLocaleDateString() :\n",
              "                                    'n/a'} - `));\n",
              "    const percent = span('0% done');\n",
              "    li.appendChild(percent);\n",
              "\n",
              "    outputElement.appendChild(li);\n",
              "\n",
              "    const fileDataPromise = new Promise((resolve) => {\n",
              "      const reader = new FileReader();\n",
              "      reader.onload = (e) => {\n",
              "        resolve(e.target.result);\n",
              "      };\n",
              "      reader.readAsArrayBuffer(file);\n",
              "    });\n",
              "    // Wait for the data to be ready.\n",
              "    let fileData = yield {\n",
              "      promise: fileDataPromise,\n",
              "      response: {\n",
              "        action: 'continue',\n",
              "      }\n",
              "    };\n",
              "\n",
              "    // Use a chunked sending to avoid message size limits. See b/62115660.\n",
              "    let position = 0;\n",
              "    do {\n",
              "      const length = Math.min(fileData.byteLength - position, MAX_PAYLOAD_SIZE);\n",
              "      const chunk = new Uint8Array(fileData, position, length);\n",
              "      position += length;\n",
              "\n",
              "      const base64 = btoa(String.fromCharCode.apply(null, chunk));\n",
              "      yield {\n",
              "        response: {\n",
              "          action: 'append',\n",
              "          file: file.name,\n",
              "          data: base64,\n",
              "        },\n",
              "      };\n",
              "\n",
              "      let percentDone = fileData.byteLength === 0 ?\n",
              "          100 :\n",
              "          Math.round((position / fileData.byteLength) * 100);\n",
              "      percent.textContent = `${percentDone}% done`;\n",
              "\n",
              "    } while (position < fileData.byteLength);\n",
              "  }\n",
              "\n",
              "  // All done.\n",
              "  yield {\n",
              "    response: {\n",
              "      action: 'complete',\n",
              "    }\n",
              "  };\n",
              "}\n",
              "\n",
              "scope.google = scope.google || {};\n",
              "scope.google.colab = scope.google.colab || {};\n",
              "scope.google.colab._files = {\n",
              "  _uploadFiles,\n",
              "  _uploadFilesContinue,\n",
              "};\n",
              "})(self);\n",
              "</script> "
            ]
          },
          "metadata": {}
        },
        {
          "output_type": "stream",
          "name": "stdout",
          "text": [
            "Saving kaggle.json to kaggle.json\n"
          ]
        }
      ],
      "source": [
        "from google.colab import files\n",
        "\n",
        "uploaded = files.upload()"
      ]
    },
    {
      "cell_type": "code",
      "execution_count": 3,
      "metadata": {
        "id": "xc_BfntSYJSN"
      },
      "outputs": [],
      "source": [
        "!mkdir ~/.kaggle\n",
        "!cp kaggle.json ~/.kaggle/\n",
        "!chmod 600 ~/.kaggle/kaggle.json"
      ]
    },
    {
      "cell_type": "code",
      "execution_count": 4,
      "metadata": {
        "colab": {
          "base_uri": "https://localhost:8080/"
        },
        "id": "_kjRY4dYYJSO",
        "outputId": "c6a80781-504a-45ae-fa09-dc2996ee5070"
      },
      "outputs": [
        {
          "output_type": "stream",
          "name": "stdout",
          "text": [
            "Dataset URL: https://www.kaggle.com/datasets/amanrawat001/celeb-df-preprocessed\n",
            "License(s): CC0-1.0\n",
            "Downloading celeb-df-preprocessed.zip to /content\n",
            " 98% 294M/300M [00:00<00:00, 857MB/s] \n",
            "100% 300M/300M [00:00<00:00, 898MB/s]\n"
          ]
        }
      ],
      "source": [
        "!kaggle datasets download -d amanrawat001/celeb-df-preprocessed"
      ]
    },
    {
      "cell_type": "code",
      "execution_count": 5,
      "metadata": {
        "id": "1Dk8BzsgYJSO"
      },
      "outputs": [],
      "source": [
        "import zipfile\n",
        "\n",
        "with zipfile.ZipFile(\"/content/celeb-df-preprocessed.zip\", 'r') as zip_ref:\n",
        "  zip_ref.extractall()"
      ]
    },
    {
      "cell_type": "code",
      "execution_count": 6,
      "metadata": {
        "id": "h8GsvlDEYJSO"
      },
      "outputs": [],
      "source": [
        "device = (\"cuda\" if torch.cuda.is_available() else \"cpu\")\n",
        "data_path = \"/content/Celeb-DF Preprocessed\""
      ]
    },
    {
      "cell_type": "code",
      "execution_count": 7,
      "metadata": {
        "colab": {
          "base_uri": "https://localhost:8080/",
          "height": 35
        },
        "id": "GMXQoU5iYJSO",
        "outputId": "b35ddbde-a3a4-43fc-c186-543a2a5c2ad5"
      },
      "outputs": [
        {
          "output_type": "execute_result",
          "data": {
            "text/plain": [
              "'cuda'"
            ],
            "application/vnd.google.colaboratory.intrinsic+json": {
              "type": "string"
            }
          },
          "metadata": {},
          "execution_count": 7
        }
      ],
      "source": [
        "device"
      ]
    },
    {
      "cell_type": "markdown",
      "metadata": {
        "collapsed": false,
        "id": "f6i7sVH9YJSP"
      },
      "source": [
        "# Dataset"
      ]
    },
    {
      "cell_type": "code",
      "execution_count": 8,
      "metadata": {
        "id": "g2--21CBYJSQ"
      },
      "outputs": [],
      "source": [
        "\n",
        "class ImageDataset(Dataset):\n",
        "    def __init__(self, image_paths, labels, transform=None):\n",
        "        self.image_paths = image_paths\n",
        "        self.labels = labels\n",
        "        self.transform = transform\n",
        "\n",
        "    def __getitem__(self, idx):\n",
        "        image_path = self.image_paths[idx]\n",
        "        label = self.labels[idx]\n",
        "\n",
        "        try:\n",
        "            image = Image.open(image_path).convert('RGB')\n",
        "\n",
        "        except Exception as e:\n",
        "            print(f\"Error loading {image_path}: {e}\")\n",
        "            image = Image.new('RGB', (224, 224), (0, 0, 0))\n",
        "\n",
        "        if self.transform:\n",
        "            image = self.transform(image)\n",
        "\n",
        "        else:\n",
        "            image = transforms.ToTensor()(image)\n",
        "\n",
        "        return image, torch.tensor(label, dtype=torch.long)\n",
        "\n",
        "    def __len__(self):\n",
        "        return len(self.image_paths)\n"
      ]
    },
    {
      "cell_type": "code",
      "execution_count": 9,
      "metadata": {
        "colab": {
          "base_uri": "https://localhost:8080/",
          "height": 174
        },
        "id": "Sduft_EcYJSQ",
        "outputId": "9f3ea2b9-7d09-4b65-937c-f160f93a1966"
      },
      "outputs": [
        {
          "output_type": "execute_result",
          "data": {
            "text/plain": [
              "'\\nclass ImageDataset(Dataset):\\n\\n    def __init__(self, image_paths, labels, transform=None, cache=True):\\n        self.image_paths = image_paths\\n        self.labels = labels\\n        self.transform = transform\\n        self.cache = cache\\n        self.cached_images = [None] * len(image_paths)\\n\\n\\n    def __getitem__(self, idx):\\n        if self.cache and self.cached_images[idx] is not None:\\n            image = self.cached_images[idx]\\n        else:\\n            image_path = self.image_paths[idx]\\n            label = self.labels[idx]\\n\\n            try:\\n                image = Image.open(image_path).convert(\"RGB\")\\n            except Exception as e:\\n                print(f\"Error loading {image_path}: {e}\")\\n                image = Image.new(\"RGB\", (224, 224), (0, 0, 0))\\n\\n            if self.transform:\\n                image = self.transform(image)\\n            else:\\n                image = transforms.ToTensor()(image)\\n\\n            if self.cache:\\n                self.cached_images[idx] = image\\n\\n        return image, torch.tensor(self.labels[idx], dtype=torch.long)\\n\\n\\n    def __len__(self):\\n        return len(self.image_paths)\\n        '"
            ],
            "application/vnd.google.colaboratory.intrinsic+json": {
              "type": "string"
            }
          },
          "metadata": {},
          "execution_count": 9
        }
      ],
      "source": [
        "'''\n",
        "class ImageDataset(Dataset):\n",
        "\n",
        "    def __init__(self, image_paths, labels, transform=None, cache=True):\n",
        "        self.image_paths = image_paths\n",
        "        self.labels = labels\n",
        "        self.transform = transform\n",
        "        self.cache = cache\n",
        "        self.cached_images = [None] * len(image_paths)\n",
        "\n",
        "\n",
        "    def __getitem__(self, idx):\n",
        "        if self.cache and self.cached_images[idx] is not None:\n",
        "            image = self.cached_images[idx]\n",
        "        else:\n",
        "            image_path = self.image_paths[idx]\n",
        "            label = self.labels[idx]\n",
        "\n",
        "            try:\n",
        "                image = Image.open(image_path).convert(\"RGB\")\n",
        "            except Exception as e:\n",
        "                print(f\"Error loading {image_path}: {e}\")\n",
        "                image = Image.new(\"RGB\", (224, 224), (0, 0, 0))\n",
        "\n",
        "            if self.transform:\n",
        "                image = self.transform(image)\n",
        "            else:\n",
        "                image = transforms.ToTensor()(image)\n",
        "\n",
        "            if self.cache:\n",
        "                self.cached_images[idx] = image\n",
        "\n",
        "        return image, torch.tensor(self.labels[idx], dtype=torch.long)\n",
        "\n",
        "\n",
        "    def __len__(self):\n",
        "        return len(self.image_paths)\n",
        "        '''\n"
      ]
    },
    {
      "cell_type": "code",
      "execution_count": 10,
      "metadata": {
        "id": "R1dyrowwYJSR"
      },
      "outputs": [],
      "source": [
        "def load_image_dataset(base_path):\n",
        "    image_paths = []\n",
        "    labels = []\n",
        "\n",
        "    for split in ['train', 'val', 'test']:\n",
        "        split_path = os.path.join(base_path, split)\n",
        "        if not os.path.exists(split_path):\n",
        "            continue\n",
        "\n",
        "        for label_type in ['real', 'fake']:\n",
        "            label_path = os.path.join(split_path, label_type)\n",
        "            if not os.path.exists(label_path):\n",
        "                continue\n",
        "\n",
        "            label_value = 0 if label_type == 'real' else 1\n",
        "\n",
        "            for img_file in os.listdir(label_path):\n",
        "                if img_file.lower().endswith(('.jpg', '.jpeg', '.png')):\n",
        "                    image_paths.append(os.path.join(label_path, img_file))\n",
        "                    labels.append(label_value)\n",
        "\n",
        "    return image_paths, labels"
      ]
    },
    {
      "cell_type": "code",
      "execution_count": 11,
      "metadata": {
        "id": "WG9zcnvFYJSR"
      },
      "outputs": [],
      "source": [
        "def load_split_dataset(base_path, split):\n",
        "    \"\"\"Load specific split (train/val/test)\"\"\"\n",
        "    image_paths = []\n",
        "    labels = []\n",
        "\n",
        "    split_path = os.path.join(base_path, split)\n",
        "    if not os.path.exists(split_path):\n",
        "        return [], []\n",
        "\n",
        "    for label_type in ['real', 'fake']:\n",
        "        label_path = os.path.join(split_path, label_type)\n",
        "        if not os.path.exists(label_path):\n",
        "            continue\n",
        "\n",
        "        label_value = 0 if label_type == 'real' else 1\n",
        "\n",
        "        for img_file in os.listdir(label_path):\n",
        "            if img_file.lower().endswith(('.jpg', '.jpeg', '.png')):\n",
        "                image_paths.append(os.path.join(label_path, img_file))\n",
        "                labels.append(label_value)\n",
        "\n",
        "    return image_paths, labels"
      ]
    },
    {
      "cell_type": "markdown",
      "metadata": {
        "collapsed": false,
        "id": "Bv0Zaqu5YJSR"
      },
      "source": [
        "# Model - EfficientNet b3"
      ]
    },
    {
      "cell_type": "code",
      "execution_count": 12,
      "metadata": {
        "id": "-mygghjRYJSR"
      },
      "outputs": [],
      "source": [
        "class EfficientNetClassifier(nn.Module):\n",
        "    def __init__(self, model_name='efficientnet_b3', num_classes=2, pretrained=True):\n",
        "        super().__init__()\n",
        "        self.backbone = timm.create_model(model_name, pretrained=pretrained, num_classes=0)\n",
        "\n",
        "        with torch.no_grad():\n",
        "            dummy_input = torch.randn(1, 3, 224, 224)\n",
        "            features = self.backbone(dummy_input)\n",
        "            feature_dim = features.shape[1]\n",
        "\n",
        "        self.classifier = nn.Sequential(\n",
        "            nn.Dropout(0.4),\n",
        "            nn.Linear(feature_dim, 256),\n",
        "            nn.ReLU(),\n",
        "            nn.Dropout(0.2),\n",
        "            nn.Linear(256, num_classes)\n",
        "        )\n",
        "\n",
        "    def forward(self, x):\n",
        "        features = self.backbone(x)\n",
        "        return self.classifier(features)"
      ]
    },
    {
      "cell_type": "markdown",
      "metadata": {
        "collapsed": false,
        "id": "UptzbxeKYJSR"
      },
      "source": [
        "# Train and Validation Functions"
      ]
    },
    {
      "cell_type": "code",
      "execution_count": 13,
      "metadata": {
        "id": "ET-T2JjEYJSR"
      },
      "outputs": [],
      "source": [
        "def train_model_one_epoch(model, train_loader, optimizer, loss_fn, device):\n",
        "    model.train()\n",
        "    total_loss = 0\n",
        "    all_preds = []\n",
        "    all_labels = []\n",
        "    all_probs = []\n",
        "\n",
        "    train_tqdm = tqdm(train_loader, desc=\"Training\")\n",
        "\n",
        "    for images, labels in train_tqdm:\n",
        "        images, labels = images.to(device), labels.to(device)\n",
        "\n",
        "        optimizer.zero_grad()\n",
        "        outputs = model(images)\n",
        "        loss = loss_fn(outputs, labels)\n",
        "        loss.backward()\n",
        "\n",
        "        torch.nn.utils.clip_grad_norm_(model.parameters(), max_norm=1.0)\n",
        "\n",
        "        optimizer.step()\n",
        "\n",
        "        total_loss += loss.item()\n",
        "        _, predicted = torch.max(outputs.data, 1)\n",
        "        probs = torch.softmax(outputs, dim=1)[:, 1]\n",
        "\n",
        "        all_preds.extend(predicted.detach().cpu().numpy())\n",
        "        all_labels.extend(labels.detach().cpu().numpy())\n",
        "        all_probs.extend(probs.detach().cpu().numpy())\n",
        "\n",
        "        train_tqdm.set_postfix({\"Loss\": f\"{loss.item():.4f}\"})\n",
        "\n",
        "    avg_loss = total_loss / len(train_loader)\n",
        "    accuracy = accuracy_score(all_labels, all_preds)\n",
        "    f1 = f1_score(all_labels, all_preds, average=\"binary\")\n",
        "    precision = precision_score(all_labels, all_preds, average=\"binary\", zero_division=0)\n",
        "    recall = recall_score(all_labels, all_preds, average=\"binary\", zero_division=0)\n",
        "    auc = roc_auc_score(all_labels, all_probs) if len(set(all_labels)) > 1 else 0\n",
        "\n",
        "    return avg_loss, accuracy, f1, precision, recall, auc, all_probs"
      ]
    },
    {
      "cell_type": "code",
      "execution_count": 14,
      "metadata": {
        "id": "B--5SaPXYJSS"
      },
      "outputs": [],
      "source": [
        "def validate_model(model, val_loader, loss_fn, device):\n",
        "    model.eval()\n",
        "    total_loss = 0\n",
        "    all_preds = []\n",
        "    all_labels = []\n",
        "    all_probs = []\n",
        "\n",
        "    with torch.no_grad():\n",
        "        val_tqdm = tqdm(val_loader, desc=\"Validation\")\n",
        "\n",
        "        for images, labels in val_tqdm:\n",
        "            images, labels = images.to(device), labels.to(device)\n",
        "\n",
        "            outputs = model(images)\n",
        "            loss = loss_fn(outputs, labels)\n",
        "\n",
        "            total_loss += loss.item()\n",
        "            _, predicted = torch.max(outputs.data, 1)\n",
        "            probs = torch.softmax(outputs, dim=1)[:, 1]\n",
        "\n",
        "            all_preds.extend(predicted.detach().cpu().numpy())\n",
        "            all_labels.extend(labels.detach().cpu().numpy())\n",
        "            all_probs.extend(probs.detach().cpu().numpy())\n",
        "\n",
        "\n",
        "    avg_loss = total_loss / len(val_loader)\n",
        "    accuracy = accuracy_score(all_labels, all_preds)\n",
        "    f1 = f1_score(all_labels, all_preds, average=\"binary\", zero_division=0)\n",
        "    precision = precision_score(all_labels, all_preds, average=\"binary\", zero_division=0)\n",
        "    recall = recall_score(all_labels, all_preds, average=\"binary\", zero_division=0)\n",
        "    auc = roc_auc_score(all_labels, all_probs) if len(set(all_labels)) > 1 else 0\n",
        "\n",
        "    print(\"\\nClassification Report:\")\n",
        "    print(classification_report(all_labels, all_preds, target_names=['Real', 'Fake']))\n",
        "\n",
        "    return avg_loss, accuracy, f1, precision, recall, auc, all_probs, all_labels"
      ]
    },
    {
      "cell_type": "code",
      "execution_count": 15,
      "metadata": {
        "colab": {
          "base_uri": "https://localhost:8080/",
          "height": 1000,
          "referenced_widgets": [
            "123e31bea58047de8a68c3938691534e",
            "9237458ca5b7403f8d48cd22820a354b",
            "5596af82c7b84ee58000329aa564ccd6",
            "cbd039abe67b4e888be5500cf59ca4a4",
            "8cfb2f16a79e4b96ad74e3ac1304ff2b",
            "b1859868b14e42c2ae9e04f9b3b7c63b",
            "c9294f6e7150450d81ff5cb2c7066b27",
            "18f15a85266841b2a90818efa8d2f26f",
            "c94516a5b2794f82b96c3e101cf54714",
            "6b0b14cf420648faa3386dad4a355d9a",
            "d474a6294f914674ab68f3677e1a9f68"
          ]
        },
        "id": "WmdM3rlWYJSS",
        "outputId": "8029f22f-b856-46c8-c03f-9a94591d6f8a"
      },
      "outputs": [
        {
          "metadata": {
            "tags": null
          },
          "name": "stdout",
          "output_type": "stream",
          "text": [
            "Using device: cuda\n",
            "Train samples: 45766\n",
            "Val samples: 13075\n",
            "Test samples: 6540\n",
            "Train label distribution: Counter({1: 34865, 0: 10901})\n",
            "Val label distribution: Counter({1: 9961, 0: 3114})\n",
            "Test label distribution: Counter({1: 4982, 0: 1558})\n"
          ]
        },
        {
          "metadata": {
            "tags": null
          },
          "name": "stderr",
          "output_type": "stream",
          "text": [
            "/usr/local/lib/python3.12/dist-packages/huggingface_hub/utils/_auth.py:94: UserWarning: \n",
            "The secret `HF_TOKEN` does not exist in your Colab secrets.\n",
            "To authenticate with the Hugging Face Hub, create a token in your settings tab (https://huggingface.co/settings/tokens), set it as secret in your Google Colab and restart your session.\n",
            "You will be able to reuse this secret in all of your notebooks.\n",
            "Please note that authentication is recommended but still optional to access public models or datasets.\n",
            "  warnings.warn(\n"
          ]
        },
        {
          "data": {
            "application/vnd.jupyter.widget-view+json": {
              "model_id": "123e31bea58047de8a68c3938691534e",
              "version_major": 2,
              "version_minor": 0
            },
            "text/plain": [
              "model.safetensors:   0%|          | 0.00/21.4M [00:00<?, ?B/s]"
            ]
          },
          "metadata": {},
          "output_type": "display_data"
        },
        {
          "metadata": {
            "tags": null
          },
          "name": "stdout",
          "output_type": "stream",
          "text": [
            "\n",
            "Training: EfficientNetClassifier\n",
            "--------------------------------------------------\n",
            "\n",
            "Epoch 1/15\n"
          ]
        },
        {
          "metadata": {
            "tags": null
          },
          "name": "stderr",
          "output_type": "stream",
          "text": [
            "Training: 100%|██████████| 1431/1431 [05:59<00:00,  3.98it/s, Loss=0.2245]\n",
            "Validation: 100%|██████████| 409/409 [00:33<00:00, 12.09it/s]\n"
          ]
        },
        {
          "metadata": {
            "tags": null
          },
          "name": "stdout",
          "output_type": "stream",
          "text": [
            "\n",
            "Classification Report:\n",
            "              precision    recall  f1-score   support\n",
            "\n",
            "        Real       0.98      0.73      0.83      3114\n",
            "        Fake       0.92      0.99      0.96      9961\n",
            "\n",
            "    accuracy                           0.93     13075\n",
            "   macro avg       0.95      0.86      0.89     13075\n",
            "weighted avg       0.93      0.93      0.93     13075\n",
            "\n",
            "\n",
            "Train Metrics:\n",
            "  Loss: 0.2738 | Acc: 0.8878 | F1: 0.9293\n",
            "  Prec: 0.8931 | Rec: 0.9686 | AUC: 0.9241\n",
            "\n",
            "Val Metrics:\n",
            "  Loss: 0.1694 | Acc: 0.9309 | F1: 0.9564\n",
            "  Prec: 0.9210 | Rec: 0.9946 | AUC: 0.9702\n",
            "  --> Best model saved!\n",
            "\n",
            "Epoch 2/15\n"
          ]
        },
        {
          "metadata": {
            "tags": null
          },
          "name": "stderr",
          "output_type": "stream",
          "text": [
            "Training: 100%|██████████| 1431/1431 [05:55<00:00,  4.03it/s, Loss=0.0740]\n",
            "Validation: 100%|██████████| 409/409 [00:33<00:00, 12.32it/s]\n"
          ]
        },
        {
          "metadata": {
            "tags": null
          },
          "name": "stdout",
          "output_type": "stream",
          "text": [
            "\n",
            "Classification Report:\n",
            "              precision    recall  f1-score   support\n",
            "\n",
            "        Real       0.96      0.82      0.88      3114\n",
            "        Fake       0.95      0.99      0.97      9961\n",
            "\n",
            "    accuracy                           0.95     13075\n",
            "   macro avg       0.95      0.90      0.92     13075\n",
            "weighted avg       0.95      0.95      0.95     13075\n",
            "\n",
            "\n",
            "Train Metrics:\n",
            "  Loss: 0.1736 | Acc: 0.9320 | F1: 0.9565\n",
            "  Prec: 0.9341 | Rec: 0.9800 | AUC: 0.9700\n",
            "\n",
            "Val Metrics:\n",
            "  Loss: 0.1390 | Acc: 0.9482 | F1: 0.9668\n",
            "  Prec: 0.9463 | Rec: 0.9881 | AUC: 0.9785\n",
            "  --> Best model saved!\n",
            "\n",
            "Epoch 3/15\n"
          ]
        },
        {
          "metadata": {
            "tags": null
          },
          "name": "stderr",
          "output_type": "stream",
          "text": [
            "Training: 100%|██████████| 1431/1431 [05:57<00:00,  4.00it/s, Loss=1.4716]\n",
            "Validation: 100%|██████████| 409/409 [00:34<00:00, 11.84it/s]\n"
          ]
        },
        {
          "metadata": {
            "tags": null
          },
          "name": "stdout",
          "output_type": "stream",
          "text": [
            "\n",
            "Classification Report:\n",
            "              precision    recall  f1-score   support\n",
            "\n",
            "        Real       0.94      0.85      0.89      3114\n",
            "        Fake       0.95      0.98      0.97      9961\n",
            "\n",
            "    accuracy                           0.95     13075\n",
            "   macro avg       0.95      0.92      0.93     13075\n",
            "weighted avg       0.95      0.95      0.95     13075\n",
            "\n",
            "\n",
            "Train Metrics:\n",
            "  Loss: 0.1445 | Acc: 0.9450 | F1: 0.9646\n",
            "  Prec: 0.9466 | Rec: 0.9833 | AUC: 0.9791\n",
            "\n",
            "Val Metrics:\n",
            "  Loss: 0.1282 | Acc: 0.9513 | F1: 0.9685\n",
            "  Prec: 0.9535 | Rec: 0.9840 | AUC: 0.9824\n",
            "  --> Best model saved!\n",
            "\n",
            "Epoch 4/15\n"
          ]
        },
        {
          "metadata": {
            "tags": null
          },
          "name": "stderr",
          "output_type": "stream",
          "text": [
            "Training: 100%|██████████| 1431/1431 [05:56<00:00,  4.01it/s, Loss=0.0176]\n",
            "Validation: 100%|██████████| 409/409 [00:34<00:00, 11.78it/s]\n"
          ]
        },
        {
          "metadata": {
            "tags": null
          },
          "name": "stdout",
          "output_type": "stream",
          "text": [
            "\n",
            "Classification Report:\n",
            "              precision    recall  f1-score   support\n",
            "\n",
            "        Real       0.97      0.84      0.90      3114\n",
            "        Fake       0.95      0.99      0.97      9961\n",
            "\n",
            "    accuracy                           0.95     13075\n",
            "   macro avg       0.96      0.91      0.93     13075\n",
            "weighted avg       0.96      0.95      0.95     13075\n",
            "\n",
            "\n",
            "Train Metrics:\n",
            "  Loss: 0.1247 | Acc: 0.9533 | F1: 0.9698\n",
            "  Prec: 0.9536 | Rec: 0.9867 | AUC: 0.9837\n",
            "\n",
            "Val Metrics:\n",
            "  Loss: 0.1249 | Acc: 0.9549 | F1: 0.9710\n",
            "  Prec: 0.9511 | Rec: 0.9918 | AUC: 0.9830\n",
            "  --> Best model saved!\n",
            "\n",
            "Epoch 5/15\n"
          ]
        },
        {
          "metadata": {
            "tags": null
          },
          "name": "stderr",
          "output_type": "stream",
          "text": [
            "Training: 100%|██████████| 1431/1431 [05:53<00:00,  4.05it/s, Loss=0.0129]\n",
            "Validation: 100%|██████████| 409/409 [00:33<00:00, 12.09it/s]\n"
          ]
        },
        {
          "metadata": {
            "tags": null
          },
          "name": "stdout",
          "output_type": "stream",
          "text": [
            "\n",
            "Classification Report:\n",
            "              precision    recall  f1-score   support\n",
            "\n",
            "        Real       0.97      0.86      0.91      3114\n",
            "        Fake       0.96      0.99      0.97      9961\n",
            "\n",
            "    accuracy                           0.96     13075\n",
            "   macro avg       0.96      0.92      0.94     13075\n",
            "weighted avg       0.96      0.96      0.96     13075\n",
            "\n",
            "\n",
            "Train Metrics:\n",
            "  Loss: 0.1081 | Acc: 0.9606 | F1: 0.9746\n",
            "  Prec: 0.9595 | Rec: 0.9901 | AUC: 0.9873\n",
            "\n",
            "Val Metrics:\n",
            "  Loss: 0.1188 | Acc: 0.9600 | F1: 0.9742\n",
            "  Prec: 0.9568 | Rec: 0.9923 | AUC: 0.9851\n",
            "  --> Best model saved!\n",
            "\n",
            "Epoch 6/15\n"
          ]
        },
        {
          "metadata": {
            "tags": null
          },
          "name": "stderr",
          "output_type": "stream",
          "text": [
            "Training: 100%|██████████| 1431/1431 [05:52<00:00,  4.06it/s, Loss=0.0318]\n",
            "Validation: 100%|██████████| 409/409 [00:30<00:00, 13.24it/s]\n"
          ]
        },
        {
          "metadata": {
            "tags": null
          },
          "name": "stdout",
          "output_type": "stream",
          "text": [
            "\n",
            "Classification Report:\n",
            "              precision    recall  f1-score   support\n",
            "\n",
            "        Real       0.94      0.88      0.91      3114\n",
            "        Fake       0.96      0.98      0.97      9961\n",
            "\n",
            "    accuracy                           0.96     13075\n",
            "   macro avg       0.95      0.93      0.94     13075\n",
            "weighted avg       0.96      0.96      0.96     13075\n",
            "\n",
            "\n",
            "Train Metrics:\n",
            "  Loss: 0.0983 | Acc: 0.9645 | F1: 0.9770\n",
            "  Prec: 0.9630 | Rec: 0.9915 | AUC: 0.9896\n",
            "\n",
            "Val Metrics:\n",
            "  Loss: 0.1230 | Acc: 0.9579 | F1: 0.9727\n",
            "  Prec: 0.9631 | Rec: 0.9824 | AUC: 0.9852\n",
            "\n",
            "Epoch 7/15\n"
          ]
        },
        {
          "output_type": "stream",
          "name": "stderr",
          "text": [
            "Training: 100%|██████████| 1431/1431 [05:58<00:00,  3.99it/s, Loss=0.0231]\n",
            "Validation: 100%|██████████| 409/409 [00:33<00:00, 12.05it/s]\n"
          ]
        },
        {
          "output_type": "stream",
          "name": "stdout",
          "text": [
            "\n",
            "Classification Report:\n",
            "              precision    recall  f1-score   support\n",
            "\n",
            "        Real       0.98      0.87      0.92      3114\n",
            "        Fake       0.96      0.99      0.98      9961\n",
            "\n",
            "    accuracy                           0.97     13075\n",
            "   macro avg       0.97      0.93      0.95     13075\n",
            "weighted avg       0.97      0.97      0.97     13075\n",
            "\n",
            "\n",
            "Train Metrics:\n",
            "  Loss: 0.0880 | Acc: 0.9686 | F1: 0.9797\n",
            "  Prec: 0.9660 | Rec: 0.9938 | AUC: 0.9910\n",
            "\n",
            "Val Metrics:\n",
            "  Loss: 0.1015 | Acc: 0.9658 | F1: 0.9779\n",
            "  Prec: 0.9618 | Rec: 0.9946 | AUC: 0.9881\n",
            "  --> Best model saved!\n",
            "\n",
            "Epoch 8/15\n"
          ]
        },
        {
          "output_type": "stream",
          "name": "stderr",
          "text": [
            "Training: 100%|██████████| 1431/1431 [05:56<00:00,  4.01it/s, Loss=0.0353]\n",
            "Validation: 100%|██████████| 409/409 [00:31<00:00, 12.84it/s]\n"
          ]
        },
        {
          "output_type": "stream",
          "name": "stdout",
          "text": [
            "\n",
            "Classification Report:\n",
            "              precision    recall  f1-score   support\n",
            "\n",
            "        Real       0.97      0.88      0.92      3114\n",
            "        Fake       0.96      0.99      0.98      9961\n",
            "\n",
            "    accuracy                           0.97     13075\n",
            "   macro avg       0.97      0.94      0.95     13075\n",
            "weighted avg       0.97      0.97      0.97     13075\n",
            "\n",
            "\n",
            "Train Metrics:\n",
            "  Loss: 0.0803 | Acc: 0.9715 | F1: 0.9816\n",
            "  Prec: 0.9689 | Rec: 0.9946 | AUC: 0.9924\n",
            "\n",
            "Val Metrics:\n",
            "  Loss: 0.1081 | Acc: 0.9656 | F1: 0.9777\n",
            "  Prec: 0.9644 | Rec: 0.9915 | AUC: 0.9871\n",
            "\n",
            "Epoch 9/15\n"
          ]
        },
        {
          "output_type": "stream",
          "name": "stderr",
          "text": [
            "Training: 100%|██████████| 1431/1431 [06:01<00:00,  3.96it/s, Loss=0.7272]\n",
            "Validation: 100%|██████████| 409/409 [00:31<00:00, 12.97it/s]\n"
          ]
        },
        {
          "output_type": "stream",
          "name": "stdout",
          "text": [
            "\n",
            "Classification Report:\n",
            "              precision    recall  f1-score   support\n",
            "\n",
            "        Real       0.97      0.88      0.93      3114\n",
            "        Fake       0.96      0.99      0.98      9961\n",
            "\n",
            "    accuracy                           0.97     13075\n",
            "   macro avg       0.97      0.94      0.95     13075\n",
            "weighted avg       0.97      0.97      0.97     13075\n",
            "\n",
            "\n",
            "Train Metrics:\n",
            "  Loss: 0.0759 | Acc: 0.9732 | F1: 0.9826\n",
            "  Prec: 0.9703 | Rec: 0.9953 | AUC: 0.9932\n",
            "\n",
            "Val Metrics:\n",
            "  Loss: 0.1070 | Acc: 0.9662 | F1: 0.9781\n",
            "  Prec: 0.9647 | Rec: 0.9919 | AUC: 0.9876\n",
            "  --> Best model saved!\n",
            "\n",
            "Epoch 10/15\n"
          ]
        },
        {
          "output_type": "stream",
          "name": "stderr",
          "text": [
            "Training: 100%|██████████| 1431/1431 [06:00<00:00,  3.97it/s, Loss=0.8313]\n",
            "Validation: 100%|██████████| 409/409 [00:30<00:00, 13.23it/s]\n"
          ]
        },
        {
          "output_type": "stream",
          "name": "stdout",
          "text": [
            "\n",
            "Classification Report:\n",
            "              precision    recall  f1-score   support\n",
            "\n",
            "        Real       0.97      0.89      0.93      3114\n",
            "        Fake       0.97      0.99      0.98      9961\n",
            "\n",
            "    accuracy                           0.97     13075\n",
            "   macro avg       0.97      0.94      0.95     13075\n",
            "weighted avg       0.97      0.97      0.97     13075\n",
            "\n",
            "\n",
            "Train Metrics:\n",
            "  Loss: 0.0706 | Acc: 0.9746 | F1: 0.9835\n",
            "  Prec: 0.9715 | Rec: 0.9959 | AUC: 0.9940\n",
            "\n",
            "Val Metrics:\n",
            "  Loss: 0.1080 | Acc: 0.9671 | F1: 0.9787\n",
            "  Prec: 0.9652 | Rec: 0.9927 | AUC: 0.9876\n",
            "  --> Best model saved!\n",
            "\n",
            "Epoch 11/15\n"
          ]
        },
        {
          "output_type": "stream",
          "name": "stderr",
          "text": [
            "Training: 100%|██████████| 1431/1431 [06:01<00:00,  3.96it/s, Loss=0.0003]\n",
            "Validation: 100%|██████████| 409/409 [00:31<00:00, 12.80it/s]\n"
          ]
        },
        {
          "output_type": "stream",
          "name": "stdout",
          "text": [
            "\n",
            "Classification Report:\n",
            "              precision    recall  f1-score   support\n",
            "\n",
            "        Real       0.96      0.87      0.91      3114\n",
            "        Fake       0.96      0.99      0.97      9961\n",
            "\n",
            "    accuracy                           0.96     13075\n",
            "   macro avg       0.96      0.93      0.94     13075\n",
            "weighted avg       0.96      0.96      0.96     13075\n",
            "\n",
            "\n",
            "Train Metrics:\n",
            "  Loss: 0.1031 | Acc: 0.9633 | F1: 0.9763\n",
            "  Prec: 0.9635 | Rec: 0.9894 | AUC: 0.9890\n",
            "\n",
            "Val Metrics:\n",
            "  Loss: 0.1253 | Acc: 0.9599 | F1: 0.9741\n",
            "  Prec: 0.9607 | Rec: 0.9879 | AUC: 0.9849\n",
            "\n",
            "Epoch 12/15\n"
          ]
        },
        {
          "output_type": "stream",
          "name": "stderr",
          "text": [
            "Training: 100%|██████████| 1431/1431 [05:58<00:00,  3.99it/s, Loss=0.1525]\n",
            "Validation: 100%|██████████| 409/409 [00:31<00:00, 12.93it/s]\n"
          ]
        },
        {
          "output_type": "stream",
          "name": "stdout",
          "text": [
            "\n",
            "Classification Report:\n",
            "              precision    recall  f1-score   support\n",
            "\n",
            "        Real       0.94      0.88      0.91      3114\n",
            "        Fake       0.96      0.98      0.97      9961\n",
            "\n",
            "    accuracy                           0.96     13075\n",
            "   macro avg       0.95      0.93      0.94     13075\n",
            "weighted avg       0.96      0.96      0.96     13075\n",
            "\n",
            "\n",
            "Train Metrics:\n",
            "  Loss: 0.1013 | Acc: 0.9639 | F1: 0.9766\n",
            "  Prec: 0.9636 | Rec: 0.9901 | AUC: 0.9892\n",
            "\n",
            "Val Metrics:\n",
            "  Loss: 0.1356 | Acc: 0.9573 | F1: 0.9723\n",
            "  Prec: 0.9631 | Rec: 0.9816 | AUC: 0.9841\n",
            "\n",
            "Epoch 13/15\n"
          ]
        },
        {
          "output_type": "stream",
          "name": "stderr",
          "text": [
            "Training: 100%|██████████| 1431/1431 [05:59<00:00,  3.98it/s, Loss=0.0386]\n",
            "Validation: 100%|██████████| 409/409 [00:30<00:00, 13.21it/s]\n"
          ]
        },
        {
          "output_type": "stream",
          "name": "stdout",
          "text": [
            "\n",
            "Classification Report:\n",
            "              precision    recall  f1-score   support\n",
            "\n",
            "        Real       0.97      0.87      0.92      3114\n",
            "        Fake       0.96      0.99      0.98      9961\n",
            "\n",
            "    accuracy                           0.96     13075\n",
            "   macro avg       0.97      0.93      0.95     13075\n",
            "weighted avg       0.96      0.96      0.96     13075\n",
            "\n",
            "\n",
            "Train Metrics:\n",
            "  Loss: 0.0950 | Acc: 0.9671 | F1: 0.9787\n",
            "  Prec: 0.9662 | Rec: 0.9915 | AUC: 0.9903\n",
            "\n",
            "Val Metrics:\n",
            "  Loss: 0.1137 | Acc: 0.9628 | F1: 0.9760\n",
            "  Prec: 0.9612 | Rec: 0.9913 | AUC: 0.9860\n",
            "\n",
            "Epoch 14/15\n"
          ]
        },
        {
          "output_type": "stream",
          "name": "stderr",
          "text": [
            "Training: 100%|██████████| 1431/1431 [06:01<00:00,  3.96it/s, Loss=0.0051]\n",
            "Validation: 100%|██████████| 409/409 [00:31<00:00, 13.08it/s]\n"
          ]
        },
        {
          "output_type": "stream",
          "name": "stdout",
          "text": [
            "\n",
            "Classification Report:\n",
            "              precision    recall  f1-score   support\n",
            "\n",
            "        Real       0.97      0.88      0.92      3114\n",
            "        Fake       0.96      0.99      0.98      9961\n",
            "\n",
            "    accuracy                           0.96     13075\n",
            "   macro avg       0.96      0.93      0.95     13075\n",
            "weighted avg       0.96      0.96      0.96     13075\n",
            "\n",
            "\n",
            "Train Metrics:\n",
            "  Loss: 0.0929 | Acc: 0.9676 | F1: 0.9790\n",
            "  Prec: 0.9672 | Rec: 0.9911 | AUC: 0.9909\n",
            "\n",
            "Val Metrics:\n",
            "  Loss: 0.1099 | Acc: 0.9636 | F1: 0.9764\n",
            "  Prec: 0.9629 | Rec: 0.9904 | AUC: 0.9870\n",
            "\n",
            "Early stopping triggered after 14 epochs\n",
            "FINAL TESTING\n",
            "============================================================\n"
          ]
        },
        {
          "output_type": "stream",
          "name": "stderr",
          "text": [
            "Validation: 100%|██████████| 205/205 [00:16<00:00, 12.75it/s]\n"
          ]
        },
        {
          "output_type": "stream",
          "name": "stdout",
          "text": [
            "\n",
            "Classification Report:\n",
            "              precision    recall  f1-score   support\n",
            "\n",
            "        Real       0.98      0.88      0.93      1558\n",
            "        Fake       0.96      0.99      0.98      4982\n",
            "\n",
            "    accuracy                           0.97      6540\n",
            "   macro avg       0.97      0.94      0.95      6540\n",
            "weighted avg       0.97      0.97      0.97      6540\n",
            "\n",
            "\n",
            "==================== FINAL RESULTS ====================\n",
            "Test Accuracy:  0.9667\n",
            "Test F1 Score:  0.9784\n",
            "Test Precision: 0.9640\n",
            "Test Recall:    0.9934\n",
            "Test ROC AUC:   0.9866\n",
            "Test Loss:      0.1168\n",
            "====================================================\n"
          ]
        },
        {
          "output_type": "error",
          "ename": "FileNotFoundError",
          "evalue": "[Errno 2] No such file or directory: '/kaggle/working/confusion_matrix.png'",
          "traceback": [
            "\u001b[0;31m---------------------------------------------------------------------------\u001b[0m",
            "\u001b[0;31mFileNotFoundError\u001b[0m                         Traceback (most recent call last)",
            "\u001b[0;32m/tmp/ipython-input-662884489.py\u001b[0m in \u001b[0;36m<cell line: 0>\u001b[0;34m()\u001b[0m\n\u001b[1;32m    118\u001b[0m     \u001b[0mplt\u001b[0m\u001b[0;34m.\u001b[0m\u001b[0mxlabel\u001b[0m\u001b[0;34m(\u001b[0m\u001b[0;34m'Predicted Label'\u001b[0m\u001b[0;34m)\u001b[0m\u001b[0;34m\u001b[0m\u001b[0;34m\u001b[0m\u001b[0m\n\u001b[1;32m    119\u001b[0m     \u001b[0mplt\u001b[0m\u001b[0;34m.\u001b[0m\u001b[0mtight_layout\u001b[0m\u001b[0;34m(\u001b[0m\u001b[0;34m)\u001b[0m\u001b[0;34m\u001b[0m\u001b[0;34m\u001b[0m\u001b[0m\n\u001b[0;32m--> 120\u001b[0;31m     \u001b[0mplt\u001b[0m\u001b[0;34m.\u001b[0m\u001b[0msavefig\u001b[0m\u001b[0;34m(\u001b[0m\u001b[0;34m'/kaggle/working/confusion_matrix.png'\u001b[0m\u001b[0;34m,\u001b[0m \u001b[0mdpi\u001b[0m\u001b[0;34m=\u001b[0m\u001b[0;36m150\u001b[0m\u001b[0;34m,\u001b[0m \u001b[0mbbox_inches\u001b[0m\u001b[0;34m=\u001b[0m\u001b[0;34m'tight'\u001b[0m\u001b[0;34m)\u001b[0m\u001b[0;34m\u001b[0m\u001b[0;34m\u001b[0m\u001b[0m\n\u001b[0m\u001b[1;32m    121\u001b[0m     \u001b[0mplt\u001b[0m\u001b[0;34m.\u001b[0m\u001b[0mshow\u001b[0m\u001b[0;34m(\u001b[0m\u001b[0;34m)\u001b[0m\u001b[0;34m\u001b[0m\u001b[0;34m\u001b[0m\u001b[0m\n",
            "\u001b[0;32m/usr/local/lib/python3.12/dist-packages/matplotlib/pyplot.py\u001b[0m in \u001b[0;36msavefig\u001b[0;34m(*args, **kwargs)\u001b[0m\n\u001b[1;32m   1241\u001b[0m     \u001b[0;31m# savefig default implementation has no return, so mypy is unhappy\u001b[0m\u001b[0;34m\u001b[0m\u001b[0;34m\u001b[0m\u001b[0m\n\u001b[1;32m   1242\u001b[0m     \u001b[0;31m# presumably this is here because subclasses can return?\u001b[0m\u001b[0;34m\u001b[0m\u001b[0;34m\u001b[0m\u001b[0m\n\u001b[0;32m-> 1243\u001b[0;31m     \u001b[0mres\u001b[0m \u001b[0;34m=\u001b[0m \u001b[0mfig\u001b[0m\u001b[0;34m.\u001b[0m\u001b[0msavefig\u001b[0m\u001b[0;34m(\u001b[0m\u001b[0;34m*\u001b[0m\u001b[0margs\u001b[0m\u001b[0;34m,\u001b[0m \u001b[0;34m**\u001b[0m\u001b[0mkwargs\u001b[0m\u001b[0;34m)\u001b[0m  \u001b[0;31m# type: ignore[func-returns-value]\u001b[0m\u001b[0;34m\u001b[0m\u001b[0;34m\u001b[0m\u001b[0m\n\u001b[0m\u001b[1;32m   1244\u001b[0m     \u001b[0mfig\u001b[0m\u001b[0;34m.\u001b[0m\u001b[0mcanvas\u001b[0m\u001b[0;34m.\u001b[0m\u001b[0mdraw_idle\u001b[0m\u001b[0;34m(\u001b[0m\u001b[0;34m)\u001b[0m  \u001b[0;31m# Need this if 'transparent=True', to reset colors.\u001b[0m\u001b[0;34m\u001b[0m\u001b[0;34m\u001b[0m\u001b[0m\n\u001b[1;32m   1245\u001b[0m     \u001b[0;32mreturn\u001b[0m \u001b[0mres\u001b[0m\u001b[0;34m\u001b[0m\u001b[0;34m\u001b[0m\u001b[0m\n",
            "\u001b[0;32m/usr/local/lib/python3.12/dist-packages/matplotlib/figure.py\u001b[0m in \u001b[0;36msavefig\u001b[0;34m(self, fname, transparent, **kwargs)\u001b[0m\n\u001b[1;32m   3488\u001b[0m                 \u001b[0;32mfor\u001b[0m \u001b[0max\u001b[0m \u001b[0;32min\u001b[0m \u001b[0mself\u001b[0m\u001b[0;34m.\u001b[0m\u001b[0maxes\u001b[0m\u001b[0;34m:\u001b[0m\u001b[0;34m\u001b[0m\u001b[0;34m\u001b[0m\u001b[0m\n\u001b[1;32m   3489\u001b[0m                     \u001b[0m_recursively_make_axes_transparent\u001b[0m\u001b[0;34m(\u001b[0m\u001b[0mstack\u001b[0m\u001b[0;34m,\u001b[0m \u001b[0max\u001b[0m\u001b[0;34m)\u001b[0m\u001b[0;34m\u001b[0m\u001b[0;34m\u001b[0m\u001b[0m\n\u001b[0;32m-> 3490\u001b[0;31m             \u001b[0mself\u001b[0m\u001b[0;34m.\u001b[0m\u001b[0mcanvas\u001b[0m\u001b[0;34m.\u001b[0m\u001b[0mprint_figure\u001b[0m\u001b[0;34m(\u001b[0m\u001b[0mfname\u001b[0m\u001b[0;34m,\u001b[0m \u001b[0;34m**\u001b[0m\u001b[0mkwargs\u001b[0m\u001b[0;34m)\u001b[0m\u001b[0;34m\u001b[0m\u001b[0;34m\u001b[0m\u001b[0m\n\u001b[0m\u001b[1;32m   3491\u001b[0m \u001b[0;34m\u001b[0m\u001b[0m\n\u001b[1;32m   3492\u001b[0m     def ginput(self, n=1, timeout=30, show_clicks=True,\n",
            "\u001b[0;32m/usr/local/lib/python3.12/dist-packages/matplotlib/backend_bases.py\u001b[0m in \u001b[0;36mprint_figure\u001b[0;34m(self, filename, dpi, facecolor, edgecolor, orientation, format, bbox_inches, pad_inches, bbox_extra_artists, backend, **kwargs)\u001b[0m\n\u001b[1;32m   2182\u001b[0m                 \u001b[0;31m# force the figure dpi to 72), so we need to set it again here.\u001b[0m\u001b[0;34m\u001b[0m\u001b[0;34m\u001b[0m\u001b[0m\n\u001b[1;32m   2183\u001b[0m                 \u001b[0;32mwith\u001b[0m \u001b[0mcbook\u001b[0m\u001b[0;34m.\u001b[0m\u001b[0m_setattr_cm\u001b[0m\u001b[0;34m(\u001b[0m\u001b[0mself\u001b[0m\u001b[0;34m.\u001b[0m\u001b[0mfigure\u001b[0m\u001b[0;34m,\u001b[0m \u001b[0mdpi\u001b[0m\u001b[0;34m=\u001b[0m\u001b[0mdpi\u001b[0m\u001b[0;34m)\u001b[0m\u001b[0;34m:\u001b[0m\u001b[0;34m\u001b[0m\u001b[0;34m\u001b[0m\u001b[0m\n\u001b[0;32m-> 2184\u001b[0;31m                     result = print_method(\n\u001b[0m\u001b[1;32m   2185\u001b[0m                         \u001b[0mfilename\u001b[0m\u001b[0;34m,\u001b[0m\u001b[0;34m\u001b[0m\u001b[0;34m\u001b[0m\u001b[0m\n\u001b[1;32m   2186\u001b[0m                         \u001b[0mfacecolor\u001b[0m\u001b[0;34m=\u001b[0m\u001b[0mfacecolor\u001b[0m\u001b[0;34m,\u001b[0m\u001b[0;34m\u001b[0m\u001b[0;34m\u001b[0m\u001b[0m\n",
            "\u001b[0;32m/usr/local/lib/python3.12/dist-packages/matplotlib/backend_bases.py\u001b[0m in \u001b[0;36m<lambda>\u001b[0;34m(*args, **kwargs)\u001b[0m\n\u001b[1;32m   2038\u001b[0m                 \"bbox_inches_restore\"}\n\u001b[1;32m   2039\u001b[0m             \u001b[0mskip\u001b[0m \u001b[0;34m=\u001b[0m \u001b[0moptional_kws\u001b[0m \u001b[0;34m-\u001b[0m \u001b[0;34m{\u001b[0m\u001b[0;34m*\u001b[0m\u001b[0minspect\u001b[0m\u001b[0;34m.\u001b[0m\u001b[0msignature\u001b[0m\u001b[0;34m(\u001b[0m\u001b[0mmeth\u001b[0m\u001b[0;34m)\u001b[0m\u001b[0;34m.\u001b[0m\u001b[0mparameters\u001b[0m\u001b[0;34m}\u001b[0m\u001b[0;34m\u001b[0m\u001b[0;34m\u001b[0m\u001b[0m\n\u001b[0;32m-> 2040\u001b[0;31m             print_method = functools.wraps(meth)(lambda *args, **kwargs: meth(\n\u001b[0m\u001b[1;32m   2041\u001b[0m                 *args, **{k: v for k, v in kwargs.items() if k not in skip}))\n\u001b[1;32m   2042\u001b[0m         \u001b[0;32melse\u001b[0m\u001b[0;34m:\u001b[0m  \u001b[0;31m# Let third-parties do as they see fit.\u001b[0m\u001b[0;34m\u001b[0m\u001b[0;34m\u001b[0m\u001b[0m\n",
            "\u001b[0;32m/usr/local/lib/python3.12/dist-packages/matplotlib/backends/backend_agg.py\u001b[0m in \u001b[0;36mprint_png\u001b[0;34m(self, filename_or_obj, metadata, pil_kwargs)\u001b[0m\n\u001b[1;32m    479\u001b[0m             \u001b[0;34m*\u001b[0m\u001b[0mmetadata\u001b[0m\u001b[0;34m*\u001b[0m\u001b[0;34m,\u001b[0m \u001b[0mincluding\u001b[0m \u001b[0mthe\u001b[0m \u001b[0mdefault\u001b[0m \u001b[0;34m'Software'\u001b[0m \u001b[0mkey\u001b[0m\u001b[0;34m.\u001b[0m\u001b[0;34m\u001b[0m\u001b[0;34m\u001b[0m\u001b[0m\n\u001b[1;32m    480\u001b[0m         \"\"\"\n\u001b[0;32m--> 481\u001b[0;31m         \u001b[0mself\u001b[0m\u001b[0;34m.\u001b[0m\u001b[0m_print_pil\u001b[0m\u001b[0;34m(\u001b[0m\u001b[0mfilename_or_obj\u001b[0m\u001b[0;34m,\u001b[0m \u001b[0;34m\"png\"\u001b[0m\u001b[0;34m,\u001b[0m \u001b[0mpil_kwargs\u001b[0m\u001b[0;34m,\u001b[0m \u001b[0mmetadata\u001b[0m\u001b[0;34m)\u001b[0m\u001b[0;34m\u001b[0m\u001b[0;34m\u001b[0m\u001b[0m\n\u001b[0m\u001b[1;32m    482\u001b[0m \u001b[0;34m\u001b[0m\u001b[0m\n\u001b[1;32m    483\u001b[0m     \u001b[0;32mdef\u001b[0m \u001b[0mprint_to_buffer\u001b[0m\u001b[0;34m(\u001b[0m\u001b[0mself\u001b[0m\u001b[0;34m)\u001b[0m\u001b[0;34m:\u001b[0m\u001b[0;34m\u001b[0m\u001b[0;34m\u001b[0m\u001b[0m\n",
            "\u001b[0;32m/usr/local/lib/python3.12/dist-packages/matplotlib/backends/backend_agg.py\u001b[0m in \u001b[0;36m_print_pil\u001b[0;34m(self, filename_or_obj, fmt, pil_kwargs, metadata)\u001b[0m\n\u001b[1;32m    428\u001b[0m         \"\"\"\n\u001b[1;32m    429\u001b[0m         \u001b[0mFigureCanvasAgg\u001b[0m\u001b[0;34m.\u001b[0m\u001b[0mdraw\u001b[0m\u001b[0;34m(\u001b[0m\u001b[0mself\u001b[0m\u001b[0;34m)\u001b[0m\u001b[0;34m\u001b[0m\u001b[0;34m\u001b[0m\u001b[0m\n\u001b[0;32m--> 430\u001b[0;31m         mpl.image.imsave(\n\u001b[0m\u001b[1;32m    431\u001b[0m             \u001b[0mfilename_or_obj\u001b[0m\u001b[0;34m,\u001b[0m \u001b[0mself\u001b[0m\u001b[0;34m.\u001b[0m\u001b[0mbuffer_rgba\u001b[0m\u001b[0;34m(\u001b[0m\u001b[0;34m)\u001b[0m\u001b[0;34m,\u001b[0m \u001b[0mformat\u001b[0m\u001b[0;34m=\u001b[0m\u001b[0mfmt\u001b[0m\u001b[0;34m,\u001b[0m \u001b[0morigin\u001b[0m\u001b[0;34m=\u001b[0m\u001b[0;34m\"upper\"\u001b[0m\u001b[0;34m,\u001b[0m\u001b[0;34m\u001b[0m\u001b[0;34m\u001b[0m\u001b[0m\n\u001b[1;32m    432\u001b[0m             dpi=self.figure.dpi, metadata=metadata, pil_kwargs=pil_kwargs)\n",
            "\u001b[0;32m/usr/local/lib/python3.12/dist-packages/matplotlib/image.py\u001b[0m in \u001b[0;36mimsave\u001b[0;34m(fname, arr, vmin, vmax, cmap, format, origin, dpi, metadata, pil_kwargs)\u001b[0m\n\u001b[1;32m   1632\u001b[0m         \u001b[0mpil_kwargs\u001b[0m\u001b[0;34m.\u001b[0m\u001b[0msetdefault\u001b[0m\u001b[0;34m(\u001b[0m\u001b[0;34m\"format\"\u001b[0m\u001b[0;34m,\u001b[0m \u001b[0mformat\u001b[0m\u001b[0;34m)\u001b[0m\u001b[0;34m\u001b[0m\u001b[0;34m\u001b[0m\u001b[0m\n\u001b[1;32m   1633\u001b[0m         \u001b[0mpil_kwargs\u001b[0m\u001b[0;34m.\u001b[0m\u001b[0msetdefault\u001b[0m\u001b[0;34m(\u001b[0m\u001b[0;34m\"dpi\"\u001b[0m\u001b[0;34m,\u001b[0m \u001b[0;34m(\u001b[0m\u001b[0mdpi\u001b[0m\u001b[0;34m,\u001b[0m \u001b[0mdpi\u001b[0m\u001b[0;34m)\u001b[0m\u001b[0;34m)\u001b[0m\u001b[0;34m\u001b[0m\u001b[0;34m\u001b[0m\u001b[0m\n\u001b[0;32m-> 1634\u001b[0;31m         \u001b[0mimage\u001b[0m\u001b[0;34m.\u001b[0m\u001b[0msave\u001b[0m\u001b[0;34m(\u001b[0m\u001b[0mfname\u001b[0m\u001b[0;34m,\u001b[0m \u001b[0;34m**\u001b[0m\u001b[0mpil_kwargs\u001b[0m\u001b[0;34m)\u001b[0m\u001b[0;34m\u001b[0m\u001b[0;34m\u001b[0m\u001b[0m\n\u001b[0m\u001b[1;32m   1635\u001b[0m \u001b[0;34m\u001b[0m\u001b[0m\n\u001b[1;32m   1636\u001b[0m \u001b[0;34m\u001b[0m\u001b[0m\n",
            "\u001b[0;32m/usr/local/lib/python3.12/dist-packages/PIL/Image.py\u001b[0m in \u001b[0;36msave\u001b[0;34m(self, fp, format, **params)\u001b[0m\n\u001b[1;32m   2581\u001b[0m                 \u001b[0mfp\u001b[0m \u001b[0;34m=\u001b[0m \u001b[0mbuiltins\u001b[0m\u001b[0;34m.\u001b[0m\u001b[0mopen\u001b[0m\u001b[0;34m(\u001b[0m\u001b[0mfilename\u001b[0m\u001b[0;34m,\u001b[0m \u001b[0;34m\"r+b\"\u001b[0m\u001b[0;34m)\u001b[0m\u001b[0;34m\u001b[0m\u001b[0;34m\u001b[0m\u001b[0m\n\u001b[1;32m   2582\u001b[0m             \u001b[0;32melse\u001b[0m\u001b[0;34m:\u001b[0m\u001b[0;34m\u001b[0m\u001b[0;34m\u001b[0m\u001b[0m\n\u001b[0;32m-> 2583\u001b[0;31m                 \u001b[0mfp\u001b[0m \u001b[0;34m=\u001b[0m \u001b[0mbuiltins\u001b[0m\u001b[0;34m.\u001b[0m\u001b[0mopen\u001b[0m\u001b[0;34m(\u001b[0m\u001b[0mfilename\u001b[0m\u001b[0;34m,\u001b[0m \u001b[0;34m\"w+b\"\u001b[0m\u001b[0;34m)\u001b[0m\u001b[0;34m\u001b[0m\u001b[0;34m\u001b[0m\u001b[0m\n\u001b[0m\u001b[1;32m   2584\u001b[0m         \u001b[0;32melse\u001b[0m\u001b[0;34m:\u001b[0m\u001b[0;34m\u001b[0m\u001b[0;34m\u001b[0m\u001b[0m\n\u001b[1;32m   2585\u001b[0m             \u001b[0mfp\u001b[0m \u001b[0;34m=\u001b[0m \u001b[0mcast\u001b[0m\u001b[0;34m(\u001b[0m\u001b[0mIO\u001b[0m\u001b[0;34m[\u001b[0m\u001b[0mbytes\u001b[0m\u001b[0;34m]\u001b[0m\u001b[0;34m,\u001b[0m \u001b[0mfp\u001b[0m\u001b[0;34m)\u001b[0m\u001b[0;34m\u001b[0m\u001b[0;34m\u001b[0m\u001b[0m\n",
            "\u001b[0;31mFileNotFoundError\u001b[0m: [Errno 2] No such file or directory: '/kaggle/working/confusion_matrix.png'"
          ]
        },
        {
          "output_type": "display_data",
          "data": {
            "text/plain": [
              "<Figure size 800x600 with 2 Axes>"
            ],
            "image/png": "[encoded data removed]"
          },
          "metadata": {}
        }
      ],
      "source": [
        "if __name__ == \"__main__\":\n",
        "    print(f\"Using device: {device}\")\n",
        "\n",
        "    train_transform = transforms.Compose([\n",
        "        transforms.Resize((224, 224)),\n",
        "        transforms.RandomHorizontalFlip(p=0.5),\n",
        "        transforms.ColorJitter(brightness=0.2, contrast=0.2, saturation=0.2, hue=0.1),\n",
        "        transforms.RandomRotation(10),\n",
        "        transforms.ToTensor(),\n",
        "        transforms.Normalize(mean=[0.485, 0.456, 0.406], std=[0.229, 0.224, 0.225])\n",
        "    ])\n",
        "\n",
        "    val_transform = transforms.Compose([\n",
        "        transforms.Resize((224, 224)),\n",
        "        transforms.ToTensor(),\n",
        "        transforms.Normalize(mean=[0.485, 0.456, 0.406], std=[0.229, 0.224, 0.225])\n",
        "    ])\n",
        "\n",
        "    train_paths, train_labels = load_split_dataset(data_path, 'train')\n",
        "    val_paths, val_labels = load_split_dataset(data_path, 'val')\n",
        "    test_paths, test_labels = load_split_dataset(data_path, 'test')\n",
        "\n",
        "    print(f\"Train samples: {len(train_paths)}\")\n",
        "    print(f\"Val samples: {len(val_paths)}\")\n",
        "    print(f\"Test samples: {len(test_paths)}\")\n",
        "    print(f\"Train label distribution: {Counter(train_labels)}\")\n",
        "    print(f\"Val label distribution: {Counter(val_labels)}\")\n",
        "    print(f\"Test label distribution: {Counter(test_labels)}\")\n",
        "\n",
        "    train_dataset = ImageDataset(train_paths, train_labels, train_transform)\n",
        "    val_dataset = ImageDataset(val_paths, val_labels, val_transform)\n",
        "    test_dataset = ImageDataset(test_paths, test_labels, val_transform)\n",
        "\n",
        "    batch_size = 32\n",
        "    train_loader = DataLoader(train_dataset, batch_size=batch_size, shuffle=True, num_workers=2)\n",
        "    val_loader = DataLoader(val_dataset, batch_size=batch_size, num_workers=2)\n",
        "    test_loader = DataLoader(test_dataset, batch_size=batch_size, num_workers=2)\n",
        "\n",
        "    model = EfficientNetClassifier('efficientnet_b0', num_classes=2)\n",
        "\n",
        "    model = model.to(device)\n",
        "\n",
        "    optimizer = AdamW(model.parameters(), lr=1e-4, weight_decay=0.01)\n",
        "    scheduler = CosineAnnealingWarmRestarts(optimizer, T_0=10, T_mult=2, eta_min=1e-6)\n",
        "    loss_fn = nn.CrossEntropyLoss()\n",
        "\n",
        "    epochs = 15\n",
        "    best_val_f1 = 0\n",
        "    patience = 4\n",
        "    counter = 0\n",
        "\n",
        "    print(f\"\\nTraining: {model.__class__.__name__}\")\n",
        "    print(\"-\" * 50)\n",
        "\n",
        "    for epoch in range(epochs):\n",
        "        print(f\"\\nEpoch {epoch+1}/{epochs}\")\n",
        "\n",
        "        train_loss, train_acc, train_f1, train_prec, train_rec, train_auc, _ = train_model_one_epoch(\n",
        "            model, train_loader, optimizer, loss_fn, device\n",
        "        )\n",
        "\n",
        "        val_loss, val_acc, val_f1, val_prec, val_rec, val_auc, _, _ = validate_model(\n",
        "            model, val_loader, loss_fn, device\n",
        "        )\n",
        "\n",
        "        scheduler.step()\n",
        "\n",
        "        print(f\"\\nTrain Metrics:\")\n",
        "        print(f\"  Loss: {train_loss:.4f} | Acc: {train_acc:.4f} | F1: {train_f1:.4f}\")\n",
        "        print(f\"  Prec: {train_prec:.4f} | Rec: {train_rec:.4f} | AUC: {train_auc:.4f}\")\n",
        "\n",
        "        print(f\"\\nVal Metrics:\")\n",
        "        print(f\"  Loss: {val_loss:.4f} | Acc: {val_acc:.4f} | F1: {val_f1:.4f}\")\n",
        "        print(f\"  Prec: {val_prec:.4f} | Rec: {val_rec:.4f} | AUC: {val_auc:.4f}\")\n",
        "\n",
        "        if val_f1 > best_val_f1:\n",
        "            best_val_f1 = val_f1\n",
        "            torch.save(model.state_dict(), \"/content/EfficientNet.pth\")\n",
        "            counter = 0\n",
        "            print(\"  --> Best model saved!\")\n",
        "        else:\n",
        "            counter += 1\n",
        "\n",
        "        if counter >= patience:\n",
        "            print(f\"\\nEarly stopping triggered after {epoch+1} epochs\")\n",
        "            break\n",
        "\n",
        "        torch.cuda.empty_cache()\n",
        "        gc.collect()\n",
        "\n",
        "    print(\"FINAL TESTING\")\n",
        "    print(\"=\"*60)\n",
        "\n",
        "    model.load_state_dict(torch.load(\"/content/EfficientNet.pth\"))\n",
        "\n",
        "    test_loss, test_acc, test_f1, test_prec, test_rec, test_auc, test_probs, test_true = validate_model(\n",
        "        model, test_loader, loss_fn, device\n",
        "    )\n",
        "\n",
        "    print(f\"\\n{'='*20} FINAL RESULTS {'='*20}\")\n",
        "    print(f\"Test Accuracy:  {test_acc:.4f}\")\n",
        "    print(f\"Test F1 Score:  {test_f1:.4f}\")\n",
        "    print(f\"Test Precision: {test_prec:.4f}\")\n",
        "    print(f\"Test Recall:    {test_rec:.4f}\")\n",
        "    print(f\"Test ROC AUC:   {test_auc:.4f}\")\n",
        "    print(f\"Test Loss:      {test_loss:.4f}\")\n",
        "    print(\"=\"*52)\n",
        "\n",
        "\n",
        "    test_preds = (np.array(test_probs) > 0.5).astype(int)\n",
        "    cm = confusion_matrix(test_true, test_preds)\n",
        "\n",
        "    plt.figure(figsize=(8, 6))\n",
        "    sns.heatmap(cm, annot=True, fmt='d', cmap='Blues',\n",
        "                xticklabels=['Real', 'Fake'], yticklabels=['Real', 'Fake'])\n",
        "    plt.title('Confusion Matrix - Test Set')\n",
        "    plt.ylabel('True Label')\n",
        "    plt.xlabel('Predicted Label')\n",
        "    plt.tight_layout()\n",
        "    plt.savefig('/kaggle/working/confusion_matrix.png', dpi=150, bbox_inches='tight')\n",
        "    plt.show()"
      ]
    },
    {
      "cell_type": "code",
      "execution_count": null,
      "metadata": {
        "id": "8z_hvHGiYJSS"
      },
      "outputs": [],
      "source": []
    }
  ],
  "metadata": {
    "accelerator": "GPU",
    "colab": {
      "gpuType": "T4",
      "provenance": []
    },
    "kaggle": {
      "accelerator": "nvidiaTeslaT4",
      "dataSources": [
        {
          "datasetId": 6013040,
          "sourceId": 9809299,
          "sourceType": "datasetVersion"
        }
      ],
      "dockerImageVersionId": 31090,
      "isGpuEnabled": true,
      "isInternetEnabled": true,
      "language": "python",
      "sourceType": "notebook"
    },
    "kernelspec": {
      "display_name": "Python (local-pytorch-env)",
      "language": "python",
      "name": "local-pytorch-env"
    },
    "language_info": {
      "codemirror_mode": {
        "name": "ipython",
        "version": 3
      },
      "file_extension": ".py",
      "mimetype": "text/x-python",
      "name": "python",
      "nbconvert_exporter": "python",
      "pygments_lexer": "ipython3",
      "version": "3.12.5"
    },
    "widgets": {
      "application/vnd.jupyter.widget-state+json": {
        "123e31bea58047de8a68c3938691534e": {
          "model_module": "@jupyter-widgets/controls",
          "model_name": "HBoxModel",
          "model_module_version": "1.5.0",
          "state": {
            "_dom_classes": [],
            "_model_module": "@jupyter-widgets/controls",
            "_model_module_version": "1.5.0",
            "_model_name": "HBoxModel",
            "_view_count": null,
            "_view_module": "@jupyter-widgets/controls",
            "_view_module_version": "1.5.0",
            "_view_name": "HBoxView",
            "box_style": "",
            "children": [
              "IPY_MODEL_9237458ca5b7403f8d48cd22820a354b",
              "IPY_MODEL_5596af82c7b84ee58000329aa564ccd6",
              "IPY_MODEL_cbd039abe67b4e888be5500cf59ca4a4"
            ],
            "layout": "IPY_MODEL_8cfb2f16a79e4b96ad74e3ac1304ff2b"
          }
        },
        "9237458ca5b7403f8d48cd22820a354b": {
          "model_module": "@jupyter-widgets/controls",
          "model_name": "HTMLModel",
          "model_module_version": "1.5.0",
          "state": {
            "_dom_classes": [],
            "_model_module": "@jupyter-widgets/controls",
            "_model_module_version": "1.5.0",
            "_model_name": "HTMLModel",
            "_view_count": null,
            "_view_module": "@jupyter-widgets/controls",
            "_view_module_version": "1.5.0",
            "_view_name": "HTMLView",
            "description": "",
            "description_tooltip": null,
            "layout": "IPY_MODEL_b1859868b14e42c2ae9e04f9b3b7c63b",
            "placeholder": "​",
            "style": "IPY_MODEL_c9294f6e7150450d81ff5cb2c7066b27",
            "value": "model.safetensors: 100%"
          }
        },
        "5596af82c7b84ee58000329aa564ccd6": {
          "model_module": "@jupyter-widgets/controls",
          "model_name": "FloatProgressModel",
          "model_module_version": "1.5.0",
          "state": {
            "_dom_classes": [],
            "_model_module": "@jupyter-widgets/controls",
            "_model_module_version": "1.5.0",
            "_model_name": "FloatProgressModel",
            "_view_count": null,
            "_view_module": "@jupyter-widgets/controls",
            "_view_module_version": "1.5.0",
            "_view_name": "ProgressView",
            "bar_style": "success",
            "description": "",
            "description_tooltip": null,
            "layout": "IPY_MODEL_18f15a85266841b2a90818efa8d2f26f",
            "max": 21355344,
            "min": 0,
            "orientation": "horizontal",
            "style": "IPY_MODEL_c94516a5b2794f82b96c3e101cf54714",
            "value": 21355344
          }
        },
        "cbd039abe67b4e888be5500cf59ca4a4": {
          "model_module": "@jupyter-widgets/controls",
          "model_name": "HTMLModel",
          "model_module_version": "1.5.0",
          "state": {
            "_dom_classes": [],
            "_model_module": "@jupyter-widgets/controls",
            "_model_module_version": "1.5.0",
            "_model_name": "HTMLModel",
            "_view_count": null,
            "_view_module": "@jupyter-widgets/controls",
            "_view_module_version": "1.5.0",
            "_view_name": "HTMLView",
            "description": "",
            "description_tooltip": null,
            "layout": "IPY_MODEL_6b0b14cf420648faa3386dad4a355d9a",
            "placeholder": "​",
            "style": "IPY_MODEL_d474a6294f914674ab68f3677e1a9f68",
            "value": " 21.4M/21.4M [00:00&lt;00:00, 196MB/s]"
          }
        },
        "8cfb2f16a79e4b96ad74e3ac1304ff2b": {
          "model_module": "@jupyter-widgets/base",
          "model_name": "LayoutModel",
          "model_module_version": "1.2.0",
          "state": {
            "_model_module": "@jupyter-widgets/base",
            "_model_module_version": "1.2.0",
            "_model_name": "LayoutModel",
            "_view_count": null,
            "_view_module": "@jupyter-widgets/base",
            "_view_module_version": "1.2.0",
            "_view_name": "LayoutView",
            "align_content": null,
            "align_items": null,
            "align_self": null,
            "border": null,
            "bottom": null,
            "display": null,
            "flex": null,
            "flex_flow": null,
            "grid_area": null,
            "grid_auto_columns": null,
            "grid_auto_flow": null,
            "grid_auto_rows": null,
            "grid_column": null,
            "grid_gap": null,
            "grid_row": null,
            "grid_template_areas": null,
            "grid_template_columns": null,
            "grid_template_rows": null,
            "height": null,
            "justify_content": null,
            "justify_items": null,
            "left": null,
            "margin": null,
            "max_height": null,
            "max_width": null,
            "min_height": null,
            "min_width": null,
            "object_fit": null,
            "object_position": null,
            "order": null,
            "overflow": null,
            "overflow_x": null,
            "overflow_y": null,
            "padding": null,
            "right": null,
            "top": null,
            "visibility": null,
            "width": null
          }
        },
        "b1859868b14e42c2ae9e04f9b3b7c63b": {
          "model_module": "@jupyter-widgets/base",
          "model_name": "LayoutModel",
          "model_module_version": "1.2.0",
          "state": {
            "_model_module": "@jupyter-widgets/base",
            "_model_module_version": "1.2.0",
            "_model_name": "LayoutModel",
            "_view_count": null,
            "_view_module": "@jupyter-widgets/base",
            "_view_module_version": "1.2.0",
            "_view_name": "LayoutView",
            "align_content": null,
            "align_items": null,
            "align_self": null,
            "border": null,
            "bottom": null,
            "display": null,
            "flex": null,
            "flex_flow": null,
            "grid_area": null,
            "grid_auto_columns": null,
            "grid_auto_flow": null,
            "grid_auto_rows": null,
            "grid_column": null,
            "grid_gap": null,
            "grid_row": null,
            "grid_template_areas": null,
            "grid_template_columns": null,
            "grid_template_rows": null,
            "height": null,
            "justify_content": null,
            "justify_items": null,
            "left": null,
            "margin": null,
            "max_height": null,
            "max_width": null,
            "min_height": null,
            "min_width": null,
            "object_fit": null,
            "object_position": null,
            "order": null,
            "overflow": null,
            "overflow_x": null,
            "overflow_y": null,
            "padding": null,
            "right": null,
            "top": null,
            "visibility": null,
            "width": null
          }
        },
        "c9294f6e7150450d81ff5cb2c7066b27": {
          "model_module": "@jupyter-widgets/controls",
          "model_name": "DescriptionStyleModel",
          "model_module_version": "1.5.0",
          "state": {
            "_model_module": "@jupyter-widgets/controls",
            "_model_module_version": "1.5.0",
            "_model_name": "DescriptionStyleModel",
            "_view_count": null,
            "_view_module": "@jupyter-widgets/base",
            "_view_module_version": "1.2.0",
            "_view_name": "StyleView",
            "description_width": ""
          }
        },
        "18f15a85266841b2a90818efa8d2f26f": {
          "model_module": "@jupyter-widgets/base",
          "model_name": "LayoutModel",
          "model_module_version": "1.2.0",
          "state": {
            "_model_module": "@jupyter-widgets/base",
            "_model_module_version": "1.2.0",
            "_model_name": "LayoutModel",
            "_view_count": null,
            "_view_module": "@jupyter-widgets/base",
            "_view_module_version": "1.2.0",
            "_view_name": "LayoutView",
            "align_content": null,
            "align_items": null,
            "align_self": null,
            "border": null,
            "bottom": null,
            "display": null,
            "flex": null,
            "flex_flow": null,
            "grid_area": null,
            "grid_auto_columns": null,
            "grid_auto_flow": null,
            "grid_auto_rows": null,
            "grid_column": null,
            "grid_gap": null,
            "grid_row": null,
            "grid_template_areas": null,
            "grid_template_columns": null,
            "grid_template_rows": null,
            "height": null,
            "justify_content": null,
            "justify_items": null,
            "left": null,
            "margin": null,
            "max_height": null,
            "max_width": null,
            "min_height": null,
            "min_width": null,
            "object_fit": null,
            "object_position": null,
            "order": null,
            "overflow": null,
            "overflow_x": null,
            "overflow_y": null,
            "padding": null,
            "right": null,
            "top": null,
            "visibility": null,
            "width": null
          }
        },
        "c94516a5b2794f82b96c3e101cf54714": {
          "model_module": "@jupyter-widgets/controls",
          "model_name": "ProgressStyleModel",
          "model_module_version": "1.5.0",
          "state": {
            "_model_module": "@jupyter-widgets/controls",
            "_model_module_version": "1.5.0",
            "_model_name": "ProgressStyleModel",
            "_view_count": null,
            "_view_module": "@jupyter-widgets/base",
            "_view_module_version": "1.2.0",
            "_view_name": "StyleView",
            "bar_color": null,
            "description_width": ""
          }
        },
        "6b0b14cf420648faa3386dad4a355d9a": {
          "model_module": "@jupyter-widgets/base",
          "model_name": "LayoutModel",
          "model_module_version": "1.2.0",
          "state": {
            "_model_module": "@jupyter-widgets/base",
            "_model_module_version": "1.2.0",
            "_model_name": "LayoutModel",
            "_view_count": null,
            "_view_module": "@jupyter-widgets/base",
            "_view_module_version": "1.2.0",
            "_view_name": "LayoutView",
            "align_content": null,
            "align_items": null,
            "align_self": null,
            "border": null,
            "bottom": null,
            "display": null,
            "flex": null,
            "flex_flow": null,
            "grid_area": null,
            "grid_auto_columns": null,
            "grid_auto_flow": null,
            "grid_auto_rows": null,
            "grid_column": null,
            "grid_gap": null,
            "grid_row": null,
            "grid_template_areas": null,
            "grid_template_columns": null,
            "grid_template_rows": null,
            "height": null,
            "justify_content": null,
            "justify_items": null,
            "left": null,
            "margin": null,
            "max_height": null,
            "max_width": null,
            "min_height": null,
            "min_width": null,
            "object_fit": null,
            "object_position": null,
            "order": null,
            "overflow": null,
            "overflow_x": null,
            "overflow_y": null,
            "padding": null,
            "right": null,
            "top": null,
            "visibility": null,
            "width": null
          }
        },
        "d474a6294f914674ab68f3677e1a9f68": {
          "model_module": "@jupyter-widgets/controls",
          "model_name": "DescriptionStyleModel",
          "model_module_version": "1.5.0",
          "state": {
            "_model_module": "@jupyter-widgets/controls",
            "_model_module_version": "1.5.0",
            "_model_name": "DescriptionStyleModel",
            "_view_count": null,
            "_view_module": "@jupyter-widgets/base",
            "_view_module_version": "1.2.0",
            "_view_name": "StyleView",
            "description_width": ""
          }
        }
      }
    }
  },
  "nbformat": 4,
  "nbformat_minor": 0
}